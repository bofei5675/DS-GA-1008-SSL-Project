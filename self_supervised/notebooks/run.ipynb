{
 "cells": [
  {
   "cell_type": "code",
   "execution_count": 2,
   "metadata": {
    "ExecuteTime": {
     "end_time": "2020-04-30T00:38:13.153120Z",
     "start_time": "2020-04-30T00:37:43.870494Z"
    }
   },
   "outputs": [
    {
     "name": "stdout",
     "output_type": "stream",
     "text": [
      "Namespace(lr=0.0003, model_config=True)\n",
      "mappingproxy({'__dict__': <attribute '__dict__' of 'Args' objects>,\n",
      "              '__doc__': None,\n",
      "              '__module__': 'config',\n",
      "              '__weakref__': <attribute '__weakref__' of 'Args' objects>,\n",
      "              'batch_size': 4,\n",
      "              'configs': 'default',\n",
      "              'continue_train': True,\n",
      "              'data_dir': 'data/',\n",
      "              'decoder_model': 'LSTM',\n",
      "              'device': 'cuda',\n",
      "              'embed_size': 128,\n",
      "              'encoder_model': 'LSTM',\n",
      "              'encoder_update_every_n_steps': 5,\n",
      "              'epochs': 80,\n",
      "              'eval_every_n_epochs': 1,\n",
      "              'log_dir': 'runs/logs',\n",
      "              'log_every_n_steps': 3,\n",
      "              'lr': 0.0005,\n",
      "              'mdl_dir': 'runs/bestmodels',\n",
      "              'output_size': 128,\n",
      "              'resnet_model': 'resnet50',\n",
      "              'rnn_hidden_size': 64,\n",
      "              'rnn_n_layers': 2,\n",
      "              'rnn_seq_len': 3,\n",
      "              'scripts_dir': 'runs/scripts',\n",
      "              'temperature': 0.5,\n",
      "              'valid_size': 0.05,\n",
      "              'weight_decay': 1e-05})\n",
      "batch_size adjusted to : 4\n",
      "Feature extractor: resnet50\n",
      "Feature extractor: resnet50\n",
      "RNN model: LSTM\n",
      "RNN model: LSTM\n",
      "Running on: cuda, Tesla K80\n",
      "\n",
      "Pre-trained weights not found. Training from scratch.\n",
      "Traceback (most recent call last):\n",
      "  File \"/scratch/cc5048/2020-spring/DS-GA-1008-SSL-Project/self_supervised/cpc.py\", line 51, in _load_pre_trained_weights\n",
      "    state_dict = torch.load(os.path.join(self.args.mdl_dir, f'model-{self.args.configs}.pth'))\n",
      "  File \"/home/cc5048/.conda/envs/py36/lib/python3.6/site-packages/torch/serialization.py\", line 419, in load\n",
      "    f = open(f, 'rb')\n",
      "FileNotFoundError: [Errno 2] No such file or directory: 'runs/bestmodels/model-default.pth'\n",
      "\n",
      "During handling of the above exception, another exception occurred:\n",
      "\n",
      "Traceback (most recent call last):\n",
      "  File \"../run.py\", line 39, in <module>\n",
      "    main()\n",
      "  File \"../run.py\", line 24, in main\n",
      "    cpc.train()\n",
      "  File \"/scratch/cc5048/2020-spring/DS-GA-1008-SSL-Project/self_supervised/cpc.py\", line 84, in train\n",
      "    model = self._load_pre_trained_weights(model, self.args)\n",
      "  File \"/scratch/cc5048/2020-spring/DS-GA-1008-SSL-Project/self_supervised/cpc.py\", line 59, in _load_pre_trained_weights\n",
      "    with open(self.args.log_dir + f'/config-{self.args.configs}.txt', 'a') as f:\n",
      "FileNotFoundError: [Errno 2] No such file or directory: 'runs/logs/config-default.txt'\n"
     ]
    }
   ],
   "source": [
    "!python ../run.py"
   ]
  },
  {
   "cell_type": "code",
   "execution_count": 4,
   "metadata": {
    "ExecuteTime": {
     "end_time": "2020-04-30T00:41:13.790748Z",
     "start_time": "2020-04-30T00:41:13.772213Z"
    }
   },
   "outputs": [
    {
     "data": {
      "text/plain": [
       "'/scratch/cc5048/2020-spring/DS-GA-1008-SSL-Project/self_supervised/notebooks'"
      ]
     },
     "execution_count": 4,
     "metadata": {},
     "output_type": "execute_result"
    }
   ],
   "source": [
    "pwd ../run.py"
   ]
  },
  {
   "cell_type": "code",
   "execution_count": null,
   "metadata": {},
   "outputs": [],
   "source": []
  }
 ],
 "metadata": {
  "kernelspec": {
   "display_name": "py36",
   "language": "python",
   "name": "py36"
  },
  "language_info": {
   "codemirror_mode": {
    "name": "ipython",
    "version": 3
   },
   "file_extension": ".py",
   "mimetype": "text/x-python",
   "name": "python",
   "nbconvert_exporter": "python",
   "pygments_lexer": "ipython3",
   "version": "3.6.8"
  },
  "toc": {
   "base_numbering": 1,
   "nav_menu": {},
   "number_sections": true,
   "sideBar": true,
   "skip_h1_title": false,
   "title_cell": "Table of Contents",
   "title_sidebar": "Contents",
   "toc_cell": false,
   "toc_position": {},
   "toc_section_display": true,
   "toc_window_display": false
  }
 },
 "nbformat": 4,
 "nbformat_minor": 2
}
