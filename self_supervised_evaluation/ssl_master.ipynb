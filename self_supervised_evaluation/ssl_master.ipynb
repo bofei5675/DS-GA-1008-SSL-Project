{
 "cells": [
  {
   "cell_type": "code",
   "execution_count": 1,
   "metadata": {
    "ExecuteTime": {
     "end_time": "2020-04-30T01:02:25.762030Z",
     "start_time": "2020-04-30T01:02:24.959317Z"
    }
   },
   "outputs": [],
   "source": [
    "# from car_detection.models import Darknet\n",
    "import sys\n",
    "sys.path.append(\"..\")\n",
    "\n",
    "from roadmap_segmentation.pix2vox import pix2vox\n",
    "from self_supervised.model import CPCModel\n",
    "from self_supervised.config import Args"
   ]
  },
  {
   "cell_type": "code",
   "execution_count": 2,
   "metadata": {
    "ExecuteTime": {
     "end_time": "2020-04-30T01:02:25.783914Z",
     "start_time": "2020-04-30T01:02:25.770537Z"
    }
   },
   "outputs": [],
   "source": [
    "class DockSLL():\n",
    "\n",
    "    def __init__(self, sl_model_addr='../model_weights/best-model-pix2vox.pth', ssl_model_addr = '../model_weights/best-model-cpc.pth'):\n",
    " \n",
    "        self.use_cuda = torch.cuda.is_available()\n",
    "        self.device = torch.device('cuda' if self.use_cuda else 'cpu')\n",
    "        \n",
    "        self.ssl_model = CPCModel(Args())\n",
    "        if self.use_cuda:\n",
    "            state_dict1 = torch.load(ssl_model_addr)\n",
    "            self.ssl_model.cuda()\n",
    "            self.ssl_model.load_state_dict(state_dict1)  \n",
    "        self.ssl_model.eval()\n",
    "        \n",
    "        \n",
    "        self.sl_model = pix2vox()\n",
    "        if self.use_cuda:\n",
    "            state_dict2 = torch.load(sl_model_addr)\n",
    "            self.sl_model.cuda()\n",
    "            self.sl_model.load_state_dict(state_dict2)  \n",
    "        self.sl_model.eval()\n",
    "        \n",
    "        \n",
    "    def copy_ssl_encoder(self):\n",
    "        \n",
    "        for param_q, param_k in zip(self.ssl_model.encoder_q.parameters(), self.sl_model.encoder.parameters()):\n",
    "            try:\n",
    "                param_k.data.copy_(param_q.data)\n",
    "                param_k.requires_grad = False\n",
    "            except: \n",
    "                print('copied ssl encoder to the lowest layer, weight freezed')\n",
    "                break\n",
    "       \n",
    "    def get_model_from_ssl(self):\n",
    "        self.copy_ssl_encoder()\n",
    "        return self.sl_model\n",
    "        \n",
    "        \n"
   ]
  },
  {
   "cell_type": "code",
   "execution_count": 3,
   "metadata": {
    "ExecuteTime": {
     "end_time": "2020-04-30T01:02:54.344942Z",
     "start_time": "2020-04-30T01:02:25.861086Z"
    }
   },
   "outputs": [
    {
     "name": "stdout",
     "output_type": "stream",
     "text": [
      "Feature extractor: resnet50\n",
      "Feature extractor: resnet50\n",
      "RNN model: LSTM\n",
      "RNN model: LSTM\n",
      "Running on: cuda, Tesla K80\n",
      "copied ssl encoder to the lowest layer, weight freezed\n"
     ]
    }
   ],
   "source": [
    "import torch\n",
    "import torch.nn as nn\n",
    "import torch.nn.functional as F\n",
    "\n",
    "pix2vox = DockSLL().get_model_from_ssl()"
   ]
  },
  {
   "cell_type": "code",
   "execution_count": null,
   "metadata": {},
   "outputs": [],
   "source": []
  }
 ],
 "metadata": {
  "kernelspec": {
   "display_name": "py36",
   "language": "python",
   "name": "py36"
  },
  "language_info": {
   "codemirror_mode": {
    "name": "ipython",
    "version": 3
   },
   "file_extension": ".py",
   "mimetype": "text/x-python",
   "name": "python",
   "nbconvert_exporter": "python",
   "pygments_lexer": "ipython3",
   "version": "3.6.8"
  },
  "toc": {
   "base_numbering": 1,
   "nav_menu": {},
   "number_sections": true,
   "sideBar": true,
   "skip_h1_title": false,
   "title_cell": "Table of Contents",
   "title_sidebar": "Contents",
   "toc_cell": false,
   "toc_position": {},
   "toc_section_display": true,
   "toc_window_display": false
  }
 },
 "nbformat": 4,
 "nbformat_minor": 2
}
