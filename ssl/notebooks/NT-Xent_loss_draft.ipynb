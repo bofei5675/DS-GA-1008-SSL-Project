{
 "cells": [
  {
   "cell_type": "code",
   "execution_count": 1,
   "metadata": {},
   "outputs": [],
   "source": [
    "import torch"
   ]
  },
  {
   "cell_type": "code",
   "execution_count": 2,
   "metadata": {},
   "outputs": [],
   "source": [
    "X = torch.rand(3, 10)\n",
    "Y = torch.rand(3, 10)\n",
    "tau = 1"
   ]
  },
  {
   "cell_type": "markdown",
   "metadata": {},
   "source": [
    "## Using linear algebra to compute the NT-Xent loss"
   ]
  },
  {
   "cell_type": "code",
   "execution_count": 3,
   "metadata": {},
   "outputs": [],
   "source": [
    "X_norm = X / (torch.norm(X,dim=1).reshape(-1,1))\n",
    "Y_norm = Y / (torch.norm(Y,dim=1).reshape(-1,1))\n",
    "XY_norm = torch.cat([X_norm, Y_norm],dim=0)\n",
    "YX_norm = torch.cat([Y_norm, X_norm],dim=0)\n",
    "sim_mat_1 = XY_norm @ XY_norm.T"
   ]
  },
  {
   "cell_type": "code",
   "execution_count": 4,
   "metadata": {},
   "outputs": [
    {
     "data": {
      "text/plain": [
       "tensor([[1.0000, 0.7281, 0.8607, 0.7395, 0.8699, 0.9070],\n",
       "        [0.7281, 1.0000, 0.6962, 0.6181, 0.7495, 0.8019],\n",
       "        [0.8607, 0.6962, 1.0000, 0.8281, 0.7893, 0.7802],\n",
       "        [0.7395, 0.6181, 0.8281, 1.0000, 0.7616, 0.7524],\n",
       "        [0.8699, 0.7495, 0.7893, 0.7616, 1.0000, 0.9197],\n",
       "        [0.9070, 0.8019, 0.7802, 0.7524, 0.9197, 1.0000]])"
      ]
     },
     "execution_count": 4,
     "metadata": {},
     "output_type": "execute_result"
    }
   ],
   "source": [
    "sim_mat_1"
   ]
  },
  {
   "cell_type": "code",
   "execution_count": 5,
   "metadata": {},
   "outputs": [],
   "source": [
    "exp_mat = torch.exp(sim_mat_1 / tau)\n",
    "exp_mat_row_sum = torch.sum(exp_mat, dim=1)\n",
    "exp_mat_diag = torch.diag(exp_mat)\n",
    "denominator = exp_mat_row_sum - exp_mat_diag"
   ]
  },
  {
   "cell_type": "code",
   "execution_count": 6,
   "metadata": {},
   "outputs": [],
   "source": [
    "sim_mat_2 = XY_norm @ YX_norm.T\n",
    "numerator = torch.exp(torch.diag(sim_mat_2) / tau)"
   ]
  },
  {
   "cell_type": "code",
   "execution_count": 7,
   "metadata": {},
   "outputs": [
    {
     "name": "stdout",
     "output_type": "stream",
     "text": [
      "tensor([2.0948, 2.1159, 2.1820, 2.0948, 2.1159, 2.1820])\n"
     ]
    }
   ],
   "source": [
    "print(numerator)"
   ]
  },
  {
   "cell_type": "code",
   "execution_count": 8,
   "metadata": {},
   "outputs": [],
   "source": [
    "nt_xent = - torch.log(numerator / denominator)"
   ]
  },
  {
   "cell_type": "code",
   "execution_count": 9,
   "metadata": {},
   "outputs": [
    {
     "name": "stdout",
     "output_type": "stream",
     "text": [
      "tensor([1.6937, 1.5806, 1.6216, 1.6122, 1.6801, 1.6638])\n"
     ]
    }
   ],
   "source": [
    "print(nt_xent)"
   ]
  },
  {
   "cell_type": "code",
   "execution_count": 10,
   "metadata": {},
   "outputs": [],
   "source": [
    "loss = torch.mean(nt_xent)"
   ]
  },
  {
   "cell_type": "code",
   "execution_count": 11,
   "metadata": {},
   "outputs": [
    {
     "data": {
      "text/plain": [
       "tensor(1.6420)"
      ]
     },
     "execution_count": 11,
     "metadata": {},
     "output_type": "execute_result"
    }
   ],
   "source": [
    "loss"
   ]
  },
  {
   "cell_type": "markdown",
   "metadata": {},
   "source": [
    "## Check: Compute $\\ell$[0] without linear algebra"
   ]
  },
  {
   "cell_type": "code",
   "execution_count": 12,
   "metadata": {},
   "outputs": [],
   "source": [
    "def f(x, tau):\n",
    "    return torch.exp(x / tau)\n",
    "def cos(x, y):\n",
    "    return torch.nn.CosineSimilarity()(x.view(1, -1), y.view(1, -1))"
   ]
  },
  {
   "cell_type": "code",
   "execution_count": 13,
   "metadata": {},
   "outputs": [
    {
     "data": {
      "text/plain": [
       "tensor([2.0948])"
      ]
     },
     "execution_count": 13,
     "metadata": {},
     "output_type": "execute_result"
    }
   ],
   "source": [
    "n = cos(X[0], Y[0])\n",
    "n = f(n, 1)\n",
    "n"
   ]
  },
  {
   "cell_type": "code",
   "execution_count": 14,
   "metadata": {},
   "outputs": [
    {
     "data": {
      "text/plain": [
       "tensor([11.3943])"
      ]
     },
     "execution_count": 14,
     "metadata": {},
     "output_type": "execute_result"
    }
   ],
   "source": [
    "d = 0\n",
    "d += f(cos(X_norm[0], Y_norm[0]), 1)\n",
    "for i in range(2):\n",
    "    d += f(cos(X_norm[0], X_norm[i+1]), 1)\n",
    "    d += f(cos(X_norm[0], Y_norm[i+1]), 1)\n",
    "d"
   ]
  },
  {
   "cell_type": "code",
   "execution_count": 15,
   "metadata": {},
   "outputs": [
    {
     "data": {
      "text/plain": [
       "tensor([1.6937])"
      ]
     },
     "execution_count": 15,
     "metadata": {},
     "output_type": "execute_result"
    }
   ],
   "source": [
    "- torch.log(n / d)"
   ]
  },
  {
   "cell_type": "markdown",
   "metadata": {},
   "source": [
    "**Note that this number is the same as the first term of `nt_xent`**"
   ]
  },
  {
   "cell_type": "markdown",
   "metadata": {},
   "source": [
    "## NT-Xent loss function"
   ]
  },
  {
   "cell_type": "code",
   "execution_count": 16,
   "metadata": {},
   "outputs": [],
   "source": [
    "def nt_xent_loss(X, Y):\n",
    "    '''\n",
    "    Input: X, Y are matrices with shape (batch, hid_size)\n",
    "    Return: NT-Xent loss\n",
    "    '''\n",
    "    X = X.view(X.shape[0], -1)\n",
    "    Y = Y.view(Y.shape[0], -1)\n",
    "    X_norm = X / (torch.norm(X,dim=1).reshape(-1,1))\n",
    "    Y_norm = Y / (torch.norm(Y,dim=1).reshape(-1,1))\n",
    "    XY_norm = torch.cat([X_norm, Y_norm],dim=0)\n",
    "    YX_norm = torch.cat([Y_norm, X_norm],dim=0)\n",
    "    \n",
    "    sim_mat_1 = XY_norm @ XY_norm.T\n",
    "    exp_mat = torch.exp(sim_mat_1 / tau)\n",
    "    exp_mat_row_sum = torch.sum(exp_mat, dim=1)\n",
    "    exp_mat_diag = torch.diag(exp_mat)\n",
    "    denominator = exp_mat_row_sum - exp_mat_diag\n",
    "    \n",
    "    sim_mat_2 = XY_norm @ YX_norm.T\n",
    "    numerator = torch.exp(torch.diag(sim_mat_2) / tau)\n",
    "    \n",
    "    nt_xent = - torch.log(numerator / denominator)\n",
    "    return torch.mean(nt_xent)"
   ]
  },
  {
   "cell_type": "code",
   "execution_count": 17,
   "metadata": {},
   "outputs": [
    {
     "data": {
      "text/plain": [
       "tensor(1.6420)"
      ]
     },
     "execution_count": 17,
     "metadata": {},
     "output_type": "execute_result"
    }
   ],
   "source": [
    "nt_xent_loss(X, Y)"
   ]
  }
 ],
 "metadata": {
  "kernelspec": {
   "display_name": "Python 3",
   "language": "python",
   "name": "python3"
  },
  "language_info": {
   "codemirror_mode": {
    "name": "ipython",
    "version": 3
   },
   "file_extension": ".py",
   "mimetype": "text/x-python",
   "name": "python",
   "nbconvert_exporter": "python",
   "pygments_lexer": "ipython3",
   "version": "3.6.3"
  }
 },
 "nbformat": 4,
 "nbformat_minor": 2
}
