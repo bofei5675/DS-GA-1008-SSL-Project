{
 "cells": [
  {
   "cell_type": "code",
   "execution_count": 1,
   "metadata": {
    "ExecuteTime": {
     "end_time": "2020-04-21T02:46:05.676010Z",
     "start_time": "2020-04-21T02:46:05.189620Z"
    }
   },
   "outputs": [],
   "source": [
    "import torch\n",
    "import torch.nn as nn\n",
    "import torch.nn.functional as F\n",
    "import torchvision.models as models"
   ]
  },
  {
   "cell_type": "code",
   "execution_count": 2,
   "metadata": {
    "ExecuteTime": {
     "end_time": "2020-04-21T02:46:05.690259Z",
     "start_time": "2020-04-21T02:46:05.680509Z"
    }
   },
   "outputs": [],
   "source": [
    "class EncoderResNet(nn.Module):\n",
    "    def __init__(self, base_model, out_dim):\n",
    "        super().__init__()\n",
    "        self.resnet_dict = {\"resnet18\": models.resnet18(pretrained=False),\n",
    "                            \"resnet50\": models.resnet50(pretrained=False), \n",
    "                            \"resnet101\": models.resnet101(pretrained=False), \n",
    "                            \"resnet152\": models.resnet152(pretrained=False), \n",
    "                            \"resnext50_wide\": models.resnext50_32x4d(pretrained=False), \n",
    "                            \"resnext101_wide\": models.resnext101_32x8d(pretrained=False), \n",
    "                             }\n",
    "\n",
    "        resnet = self._get_basemodel(base_model)\n",
    "        num_ftrs = resnet.fc.in_features\n",
    "\n",
    "        self.features = nn.Sequential(*list(resnet.children())[:-1])\n",
    "\n",
    "        # projection MLP\n",
    "        self.l1 = nn.Linear(num_ftrs, num_ftrs)\n",
    "        self.l2 = nn.Linear(num_ftrs, out_dim)\n",
    "        self.weights_init()\n",
    "\n",
    "    def _get_basemodel(self, model_name):\n",
    "        try:\n",
    "            model = self.resnet_dict[model_name]\n",
    "            print(\"Feature extractor:\", model_name)\n",
    "            return model\n",
    "        except:\n",
    "            raise (\"Invalid model name. Check the config file and pass one of: resnet18 or resnet50\")\n",
    "\n",
    "    def forward(self, x):\n",
    "        batch, seq, channel, height, width = x.shape\n",
    "        x = x.view(-1, channel, height, width)\n",
    "        h = self.features(x)\n",
    "        h = h.squeeze().view(batch, seq, -1)\n",
    "        x = self.l1(h)\n",
    "        x = F.relu(x)\n",
    "        x = self.l2(x).view(batch, seq, -1)\n",
    "        return h, x\n",
    "    \n",
    "    def weights_init(m):\n",
    "        if isinstance(m, nn.Conv2d):\n",
    "            xavier(m.weight.data)\n",
    "            xavier(m.bias.data)"
   ]
  },
  {
   "cell_type": "code",
   "execution_count": 3,
   "metadata": {
    "ExecuteTime": {
     "end_time": "2020-04-21T02:46:11.177266Z",
     "start_time": "2020-04-21T02:46:05.902739Z"
    }
   },
   "outputs": [
    {
     "name": "stdout",
     "output_type": "stream",
     "text": [
      "Feature extractor: resnet50\n"
     ]
    }
   ],
   "source": [
    "from torchsummary import summary\n",
    "model = EncoderResNet('resnet50', 512).cuda()"
   ]
  },
  {
   "cell_type": "code",
   "execution_count": 4,
   "metadata": {
    "ExecuteTime": {
     "end_time": "2020-04-21T02:46:19.780603Z",
     "start_time": "2020-04-21T02:46:19.040429Z"
    },
    "scrolled": false
   },
   "outputs": [
    {
     "name": "stdout",
     "output_type": "stream",
     "text": [
      "----------------------------------------------------------------\n",
      "        Layer (type)               Output Shape         Param #\n",
      "================================================================\n",
      "            Conv2d-1         [-1, 64, 208, 208]           9,408\n",
      "       BatchNorm2d-2         [-1, 64, 208, 208]             128\n",
      "              ReLU-3         [-1, 64, 208, 208]               0\n",
      "         MaxPool2d-4         [-1, 64, 104, 104]               0\n",
      "            Conv2d-5         [-1, 64, 104, 104]           4,096\n",
      "       BatchNorm2d-6         [-1, 64, 104, 104]             128\n",
      "              ReLU-7         [-1, 64, 104, 104]               0\n",
      "            Conv2d-8         [-1, 64, 104, 104]          36,864\n",
      "       BatchNorm2d-9         [-1, 64, 104, 104]             128\n",
      "             ReLU-10         [-1, 64, 104, 104]               0\n",
      "           Conv2d-11        [-1, 256, 104, 104]          16,384\n",
      "      BatchNorm2d-12        [-1, 256, 104, 104]             512\n",
      "           Conv2d-13        [-1, 256, 104, 104]          16,384\n",
      "      BatchNorm2d-14        [-1, 256, 104, 104]             512\n",
      "             ReLU-15        [-1, 256, 104, 104]               0\n",
      "       Bottleneck-16        [-1, 256, 104, 104]               0\n",
      "           Conv2d-17         [-1, 64, 104, 104]          16,384\n",
      "      BatchNorm2d-18         [-1, 64, 104, 104]             128\n",
      "             ReLU-19         [-1, 64, 104, 104]               0\n",
      "           Conv2d-20         [-1, 64, 104, 104]          36,864\n",
      "      BatchNorm2d-21         [-1, 64, 104, 104]             128\n",
      "             ReLU-22         [-1, 64, 104, 104]               0\n",
      "           Conv2d-23        [-1, 256, 104, 104]          16,384\n",
      "      BatchNorm2d-24        [-1, 256, 104, 104]             512\n",
      "             ReLU-25        [-1, 256, 104, 104]               0\n",
      "       Bottleneck-26        [-1, 256, 104, 104]               0\n",
      "           Conv2d-27         [-1, 64, 104, 104]          16,384\n",
      "      BatchNorm2d-28         [-1, 64, 104, 104]             128\n",
      "             ReLU-29         [-1, 64, 104, 104]               0\n",
      "           Conv2d-30         [-1, 64, 104, 104]          36,864\n",
      "      BatchNorm2d-31         [-1, 64, 104, 104]             128\n",
      "             ReLU-32         [-1, 64, 104, 104]               0\n",
      "           Conv2d-33        [-1, 256, 104, 104]          16,384\n",
      "      BatchNorm2d-34        [-1, 256, 104, 104]             512\n",
      "             ReLU-35        [-1, 256, 104, 104]               0\n",
      "       Bottleneck-36        [-1, 256, 104, 104]               0\n",
      "           Conv2d-37        [-1, 128, 104, 104]          32,768\n",
      "      BatchNorm2d-38        [-1, 128, 104, 104]             256\n",
      "             ReLU-39        [-1, 128, 104, 104]               0\n",
      "           Conv2d-40          [-1, 128, 52, 52]         147,456\n",
      "      BatchNorm2d-41          [-1, 128, 52, 52]             256\n",
      "             ReLU-42          [-1, 128, 52, 52]               0\n",
      "           Conv2d-43          [-1, 512, 52, 52]          65,536\n",
      "      BatchNorm2d-44          [-1, 512, 52, 52]           1,024\n",
      "           Conv2d-45          [-1, 512, 52, 52]         131,072\n",
      "      BatchNorm2d-46          [-1, 512, 52, 52]           1,024\n",
      "             ReLU-47          [-1, 512, 52, 52]               0\n",
      "       Bottleneck-48          [-1, 512, 52, 52]               0\n",
      "           Conv2d-49          [-1, 128, 52, 52]          65,536\n",
      "      BatchNorm2d-50          [-1, 128, 52, 52]             256\n",
      "             ReLU-51          [-1, 128, 52, 52]               0\n",
      "           Conv2d-52          [-1, 128, 52, 52]         147,456\n",
      "      BatchNorm2d-53          [-1, 128, 52, 52]             256\n",
      "             ReLU-54          [-1, 128, 52, 52]               0\n",
      "           Conv2d-55          [-1, 512, 52, 52]          65,536\n",
      "      BatchNorm2d-56          [-1, 512, 52, 52]           1,024\n",
      "             ReLU-57          [-1, 512, 52, 52]               0\n",
      "       Bottleneck-58          [-1, 512, 52, 52]               0\n",
      "           Conv2d-59          [-1, 128, 52, 52]          65,536\n",
      "      BatchNorm2d-60          [-1, 128, 52, 52]             256\n",
      "             ReLU-61          [-1, 128, 52, 52]               0\n",
      "           Conv2d-62          [-1, 128, 52, 52]         147,456\n",
      "      BatchNorm2d-63          [-1, 128, 52, 52]             256\n",
      "             ReLU-64          [-1, 128, 52, 52]               0\n",
      "           Conv2d-65          [-1, 512, 52, 52]          65,536\n",
      "      BatchNorm2d-66          [-1, 512, 52, 52]           1,024\n",
      "             ReLU-67          [-1, 512, 52, 52]               0\n",
      "       Bottleneck-68          [-1, 512, 52, 52]               0\n",
      "           Conv2d-69          [-1, 128, 52, 52]          65,536\n",
      "      BatchNorm2d-70          [-1, 128, 52, 52]             256\n",
      "             ReLU-71          [-1, 128, 52, 52]               0\n",
      "           Conv2d-72          [-1, 128, 52, 52]         147,456\n",
      "      BatchNorm2d-73          [-1, 128, 52, 52]             256\n",
      "             ReLU-74          [-1, 128, 52, 52]               0\n",
      "           Conv2d-75          [-1, 512, 52, 52]          65,536\n",
      "      BatchNorm2d-76          [-1, 512, 52, 52]           1,024\n",
      "             ReLU-77          [-1, 512, 52, 52]               0\n",
      "       Bottleneck-78          [-1, 512, 52, 52]               0\n",
      "           Conv2d-79          [-1, 256, 52, 52]         131,072\n",
      "      BatchNorm2d-80          [-1, 256, 52, 52]             512\n",
      "             ReLU-81          [-1, 256, 52, 52]               0\n",
      "           Conv2d-82          [-1, 256, 26, 26]         589,824\n",
      "      BatchNorm2d-83          [-1, 256, 26, 26]             512\n",
      "             ReLU-84          [-1, 256, 26, 26]               0\n",
      "           Conv2d-85         [-1, 1024, 26, 26]         262,144\n",
      "      BatchNorm2d-86         [-1, 1024, 26, 26]           2,048\n",
      "           Conv2d-87         [-1, 1024, 26, 26]         524,288\n",
      "      BatchNorm2d-88         [-1, 1024, 26, 26]           2,048\n",
      "             ReLU-89         [-1, 1024, 26, 26]               0\n",
      "       Bottleneck-90         [-1, 1024, 26, 26]               0\n",
      "           Conv2d-91          [-1, 256, 26, 26]         262,144\n",
      "      BatchNorm2d-92          [-1, 256, 26, 26]             512\n",
      "             ReLU-93          [-1, 256, 26, 26]               0\n",
      "           Conv2d-94          [-1, 256, 26, 26]         589,824\n",
      "      BatchNorm2d-95          [-1, 256, 26, 26]             512\n",
      "             ReLU-96          [-1, 256, 26, 26]               0\n",
      "           Conv2d-97         [-1, 1024, 26, 26]         262,144\n",
      "      BatchNorm2d-98         [-1, 1024, 26, 26]           2,048\n",
      "             ReLU-99         [-1, 1024, 26, 26]               0\n",
      "      Bottleneck-100         [-1, 1024, 26, 26]               0\n",
      "          Conv2d-101          [-1, 256, 26, 26]         262,144\n",
      "     BatchNorm2d-102          [-1, 256, 26, 26]             512\n",
      "            ReLU-103          [-1, 256, 26, 26]               0\n",
      "          Conv2d-104          [-1, 256, 26, 26]         589,824\n",
      "     BatchNorm2d-105          [-1, 256, 26, 26]             512\n",
      "            ReLU-106          [-1, 256, 26, 26]               0\n",
      "          Conv2d-107         [-1, 1024, 26, 26]         262,144\n",
      "     BatchNorm2d-108         [-1, 1024, 26, 26]           2,048\n",
      "            ReLU-109         [-1, 1024, 26, 26]               0\n",
      "      Bottleneck-110         [-1, 1024, 26, 26]               0\n",
      "          Conv2d-111          [-1, 256, 26, 26]         262,144\n",
      "     BatchNorm2d-112          [-1, 256, 26, 26]             512\n",
      "            ReLU-113          [-1, 256, 26, 26]               0\n",
      "          Conv2d-114          [-1, 256, 26, 26]         589,824\n",
      "     BatchNorm2d-115          [-1, 256, 26, 26]             512\n",
      "            ReLU-116          [-1, 256, 26, 26]               0\n",
      "          Conv2d-117         [-1, 1024, 26, 26]         262,144\n",
      "     BatchNorm2d-118         [-1, 1024, 26, 26]           2,048\n",
      "            ReLU-119         [-1, 1024, 26, 26]               0\n",
      "      Bottleneck-120         [-1, 1024, 26, 26]               0\n",
      "          Conv2d-121          [-1, 256, 26, 26]         262,144\n",
      "     BatchNorm2d-122          [-1, 256, 26, 26]             512\n",
      "            ReLU-123          [-1, 256, 26, 26]               0\n",
      "          Conv2d-124          [-1, 256, 26, 26]         589,824\n",
      "     BatchNorm2d-125          [-1, 256, 26, 26]             512\n",
      "            ReLU-126          [-1, 256, 26, 26]               0\n",
      "          Conv2d-127         [-1, 1024, 26, 26]         262,144\n",
      "     BatchNorm2d-128         [-1, 1024, 26, 26]           2,048\n",
      "            ReLU-129         [-1, 1024, 26, 26]               0\n",
      "      Bottleneck-130         [-1, 1024, 26, 26]               0\n",
      "          Conv2d-131          [-1, 256, 26, 26]         262,144\n",
      "     BatchNorm2d-132          [-1, 256, 26, 26]             512\n",
      "            ReLU-133          [-1, 256, 26, 26]               0\n",
      "          Conv2d-134          [-1, 256, 26, 26]         589,824\n",
      "     BatchNorm2d-135          [-1, 256, 26, 26]             512\n",
      "            ReLU-136          [-1, 256, 26, 26]               0\n",
      "          Conv2d-137         [-1, 1024, 26, 26]         262,144\n",
      "     BatchNorm2d-138         [-1, 1024, 26, 26]           2,048\n",
      "            ReLU-139         [-1, 1024, 26, 26]               0\n",
      "      Bottleneck-140         [-1, 1024, 26, 26]               0\n",
      "          Conv2d-141          [-1, 512, 26, 26]         524,288\n",
      "     BatchNorm2d-142          [-1, 512, 26, 26]           1,024\n",
      "            ReLU-143          [-1, 512, 26, 26]               0\n",
      "          Conv2d-144          [-1, 512, 13, 13]       2,359,296\n",
      "     BatchNorm2d-145          [-1, 512, 13, 13]           1,024\n",
      "            ReLU-146          [-1, 512, 13, 13]               0\n",
      "          Conv2d-147         [-1, 2048, 13, 13]       1,048,576\n",
      "     BatchNorm2d-148         [-1, 2048, 13, 13]           4,096\n",
      "          Conv2d-149         [-1, 2048, 13, 13]       2,097,152\n",
      "     BatchNorm2d-150         [-1, 2048, 13, 13]           4,096\n",
      "            ReLU-151         [-1, 2048, 13, 13]               0\n",
      "      Bottleneck-152         [-1, 2048, 13, 13]               0\n",
      "          Conv2d-153          [-1, 512, 13, 13]       1,048,576\n",
      "     BatchNorm2d-154          [-1, 512, 13, 13]           1,024\n",
      "            ReLU-155          [-1, 512, 13, 13]               0\n",
      "          Conv2d-156          [-1, 512, 13, 13]       2,359,296\n",
      "     BatchNorm2d-157          [-1, 512, 13, 13]           1,024\n",
      "            ReLU-158          [-1, 512, 13, 13]               0\n",
      "          Conv2d-159         [-1, 2048, 13, 13]       1,048,576\n",
      "     BatchNorm2d-160         [-1, 2048, 13, 13]           4,096\n",
      "            ReLU-161         [-1, 2048, 13, 13]               0\n",
      "      Bottleneck-162         [-1, 2048, 13, 13]               0\n",
      "          Conv2d-163          [-1, 512, 13, 13]       1,048,576\n",
      "     BatchNorm2d-164          [-1, 512, 13, 13]           1,024\n",
      "            ReLU-165          [-1, 512, 13, 13]               0\n",
      "          Conv2d-166          [-1, 512, 13, 13]       2,359,296\n",
      "     BatchNorm2d-167          [-1, 512, 13, 13]           1,024\n",
      "            ReLU-168          [-1, 512, 13, 13]               0\n",
      "          Conv2d-169         [-1, 2048, 13, 13]       1,048,576\n",
      "     BatchNorm2d-170         [-1, 2048, 13, 13]           4,096\n",
      "            ReLU-171         [-1, 2048, 13, 13]               0\n",
      "      Bottleneck-172         [-1, 2048, 13, 13]               0\n",
      "AdaptiveAvgPool2d-173           [-1, 2048, 1, 1]               0\n",
      "          Linear-174              [-1, 3, 2048]       4,196,352\n",
      "          Linear-175               [-1, 3, 512]       1,049,088\n",
      "   EncoderResNet-176  [[-1, 3, 2048], [-1, 3, 512]]               0\n",
      "================================================================\n",
      "Total params: 28,753,472\n",
      "Trainable params: 28,753,472\n",
      "Non-trainable params: 0\n",
      "----------------------------------------------------------------\n",
      "Input size (MB): 5.94\n",
      "Forward/backward pass size (MB): 916.33\n",
      "Params size (MB): 109.69\n",
      "Estimated Total Size (MB): 1031.96\n",
      "----------------------------------------------------------------\n",
      "\n"
     ]
    },
    {
     "data": {
      "text/plain": [
       "(tensor(28753472), tensor(28753472))"
      ]
     },
     "execution_count": 4,
     "metadata": {},
     "output_type": "execute_result"
    }
   ],
   "source": [
    "summary(model=model, input_size=(batch, seq, 3, 416, 416))"
   ]
  },
  {
   "cell_type": "code",
   "execution_count": null,
   "metadata": {},
   "outputs": [],
   "source": []
  },
  {
   "cell_type": "code",
   "execution_count": null,
   "metadata": {},
   "outputs": [],
   "source": []
  },
  {
   "cell_type": "code",
   "execution_count": 5,
   "metadata": {
    "ExecuteTime": {
     "end_time": "2020-04-17T22:21:30.171108Z",
     "start_time": "2020-04-17T22:21:30.168534Z"
    }
   },
   "outputs": [],
   "source": [
    "# https://github.com/sthalles/SimCLR/blob/master/models/resnet_simclr.py\n",
    "# https://pytorch.org/tutorials/intermediate/seq2seq_translation_tutorial.html"
   ]
  },
  {
   "cell_type": "code",
   "execution_count": 6,
   "metadata": {
    "ExecuteTime": {
     "end_time": "2020-04-17T22:21:30.191880Z",
     "start_time": "2020-04-17T22:21:30.174429Z"
    }
   },
   "outputs": [],
   "source": [
    "class Seq2seq(nn.Module):\n",
    "    def __init__(self, input_dim, hidden_dim, output_dim, num_layers=2, seq_len=3,\n",
    "                 encoder_model='GRU', decoder_model='GRU'):\n",
    "        super().__init__()\n",
    "        self.device = torch.device(\n",
    "            \"cuda\" if torch.cuda.is_available() else \"cpu\")\n",
    "\n",
    "        self.rnn_encoder_dict = {\"RNN\": nn.RNN(input_dim, hidden_dim, num_layers=num_layers),\n",
    "                                 \"LSTM\": nn.LSTM(input_dim, hidden_dim, num_layers=num_layers),\n",
    "                                 \"GRU\": nn.GRU(input_dim, hidden_dim, num_layers=num_layers)\n",
    "                                 }\n",
    "\n",
    "        self.rnn_decoder_dict = {\"RNN\": nn.RNN(hidden_dim, output_dim, num_layers=num_layers),\n",
    "                                 \"LSTM\": nn.LSTM(hidden_dim, output_dim, num_layers=num_layers),\n",
    "                                 \"GRU\": nn.GRU(hidden_dim, output_dim, num_layers=num_layers)\n",
    "                                 }\n",
    "\n",
    "        self.rnn_lr = nn.Linear(hidden_dim*num_layers, output_dim*num_layers)\n",
    "\n",
    "        self.hidden_dim = hidden_dim\n",
    "        self.input_dim = input_dim\n",
    "        self.output_dim = output_dim\n",
    "        self.num_layers = num_layers\n",
    "\n",
    "        self.seq_len = seq_len\n",
    "\n",
    "        self.decoder_model = decoder_model\n",
    "\n",
    "        self.encoder = self._get_encodermodel(encoder_model)\n",
    "        self.decoder = self._get_decodermodel(decoder_model)\n",
    "        \n",
    "        self.weights_init()\n",
    "\n",
    "    def _get_encodermodel(self, model_name):\n",
    "        model = self.rnn_encoder_dict[model_name]\n",
    "        print(\"RNN model:\", model_name)\n",
    "        return model\n",
    "\n",
    "    def _get_decodermodel(self, model_name):\n",
    "        model = self.rnn_decoder_dict[model_name]\n",
    "        print(\"RNN model:\", model_name)\n",
    "        return model\n",
    "\n",
    "    def initHidden(self, batch_size):\n",
    "        if self.decoder_model == 'LSTM':\n",
    "            return (torch.zeros(self.num_layers, batch_size, self.hidden_dim, device=self.device),\n",
    "                    torch.zeros(self.num_layers, batch_size, self.hidden_dim, device=self.device))\n",
    "        else:\n",
    "            return torch.zeros(self.num_layers, batch_size, self.hidden_dim, device=self.device)\n",
    "\n",
    "    def initInput(self, batch_size):\n",
    "        return torch.zeros(self.seq_len, batch_size, self.hidden_dim, device=self.device)\n",
    "    \n",
    "    def weights_init(m):\n",
    "        if isinstance(m, (nn.RNN, nn.GRU, nn.LSTM)):\n",
    "            xavier_normal(m.weight.data)\n",
    "            xavier_uniform(m.bias.data)\n",
    "    \n",
    "\n",
    "    def forward(self, encoder_inputs):\n",
    "        batch_size = encoder_inputs.size(1)\n",
    "        encoder_hidden = self.initHidden(batch_size)\n",
    "\n",
    "        encoder_outputs = torch.zeros(\n",
    "            self.seq_len, batch_size, self.hidden_dim, device=self.device)\n",
    "\n",
    "        input_length = encoder_inputs.size(0)\n",
    "        for ei in range(input_length):\n",
    "            encoder_output, encoder_hidden = self.encoder(\n",
    "                encoder_inputs[ei].unsqueeze(0), encoder_hidden)\n",
    "            encoder_outputs[ei] = encoder_output\n",
    "\n",
    "        decoder_inputs = self.initInput(batch_size)\n",
    "\n",
    "        if self.hidden_dim != self.output_dim:\n",
    "            if self.decoder_model == 'LSTM':\n",
    "                decoder_hidden = (self.rnn_lr(encoder_hidden[0].transpose_(0, 1).reshape(batch_size, -1)).reshape(-1, batch_size, self.output_dim), \n",
    "                                 self.rnn_lr(encoder_hidden[1].transpose_(0, 1).reshape(batch_size, -1)).reshape(-1, batch_size, self.output_dim))\n",
    "\n",
    "            else:\n",
    "                decoder_hidden = self.rnn_lr(encoder_hidden.transpose_(0, 1).reshape(batch_size, -1))\n",
    "                decoder_hidden = decoder_hidden.reshape(-1, batch_size, self.output_dim)\n",
    "\n",
    "        decoder_outputs = torch.zeros(\n",
    "            self.seq_len, batch_size, self.output_dim, device=self.device)\n",
    "\n",
    "        for di in range(input_length):\n",
    "            decoder_output, decoder_hidden = self.decoder(\n",
    "                decoder_inputs[di].unsqueeze(0), decoder_hidden)\n",
    "            decoder_outputs[di] = decoder_output\n",
    "\n",
    "        return decoder_outputs"
   ]
  },
  {
   "cell_type": "code",
   "execution_count": 7,
   "metadata": {
    "ExecuteTime": {
     "end_time": "2020-04-17T22:21:30.208380Z",
     "start_time": "2020-04-17T22:21:30.204387Z"
    }
   },
   "outputs": [],
   "source": [
    "class Args:\n",
    "    data = '../ssl/data'\n",
    "    resnet_model = 'resnet50'\n",
    "    encoder_model = 'LSTM'\n",
    "    decoder_model = 'LSTM'\n",
    "    embed_size = 512\n",
    "    rnn_hidden_size = 128\n",
    "    output_size = 512\n",
    "    rnn_n_layers = 2\n",
    "    rnn_seq_len = 3\n",
    "    \n",
    "\n",
    "args = Args()"
   ]
  },
  {
   "cell_type": "code",
   "execution_count": 8,
   "metadata": {
    "ExecuteTime": {
     "end_time": "2020-04-17T22:21:30.224385Z",
     "start_time": "2020-04-17T22:21:30.211618Z"
    }
   },
   "outputs": [],
   "source": [
    "class CPCModel(nn.Module):\n",
    "    \n",
    "    def __init__(self, args):\n",
    "        super().__init__()\n",
    "        self.Encoder = EncoderResNet(args.resnet_model, args.embed_size)\n",
    "        self.Seq2Seq = Seq2seq(args.embed_size, args.rnn_hidden_size, args.output_size, num_layers=args.rnn_n_layers, seq_len=args.rnn_seq_len,\n",
    "                               encoder_model=args.encoder_model, decoder_model=args.decoder_model)\n",
    "        \n",
    "        \n",
    "    def forward(self, inputs):\n",
    "        reprentation, x = self.Encoder(inputs)\n",
    "        x = x.transpose_(1, 0)\n",
    "        outputs = self.Seq2Seq(x)\n",
    "        return outputs"
   ]
  },
  {
   "cell_type": "code",
   "execution_count": 9,
   "metadata": {
    "ExecuteTime": {
     "end_time": "2020-04-17T22:21:38.164561Z",
     "start_time": "2020-04-17T22:21:34.558527Z"
    }
   },
   "outputs": [
    {
     "name": "stdout",
     "output_type": "stream",
     "text": [
      "Feature extractor: resnet50\n",
      "RNN model: LSTM\n",
      "RNN model: LSTM\n"
     ]
    },
    {
     "data": {
      "text/plain": [
       "tensor([[[-0.0002,  0.0246, -0.0102,  ..., -0.0081,  0.0022,  0.0473],\n",
       "         [-0.0039,  0.0143,  0.0126,  ..., -0.0223, -0.0217, -0.0057],\n",
       "         [-0.0002,  0.0246, -0.0102,  ..., -0.0081,  0.0022,  0.0473],\n",
       "         ...,\n",
       "         [-0.0039,  0.0143,  0.0126,  ..., -0.0223, -0.0217, -0.0057],\n",
       "         [-0.0002,  0.0246, -0.0102,  ..., -0.0081,  0.0022,  0.0473],\n",
       "         [-0.0039,  0.0143,  0.0126,  ..., -0.0223, -0.0217, -0.0057]],\n",
       "\n",
       "        [[-0.0134,  0.0179, -0.0102,  ..., -0.0199, -0.0039,  0.0205],\n",
       "         [-0.0206,  0.0111,  0.0023,  ..., -0.0310, -0.0235, -0.0046],\n",
       "         [-0.0134,  0.0179, -0.0102,  ..., -0.0199, -0.0039,  0.0205],\n",
       "         ...,\n",
       "         [-0.0206,  0.0111,  0.0023,  ..., -0.0310, -0.0235, -0.0046],\n",
       "         [-0.0134,  0.0179, -0.0102,  ..., -0.0199, -0.0039,  0.0205],\n",
       "         [-0.0206,  0.0111,  0.0023,  ..., -0.0310, -0.0235, -0.0046]],\n",
       "\n",
       "        [[-0.0218,  0.0134, -0.0098,  ..., -0.0262, -0.0077,  0.0063],\n",
       "         [-0.0286,  0.0100, -0.0031,  ..., -0.0338, -0.0205, -0.0053],\n",
       "         [-0.0218,  0.0134, -0.0098,  ..., -0.0262, -0.0077,  0.0063],\n",
       "         ...,\n",
       "         [-0.0286,  0.0100, -0.0031,  ..., -0.0338, -0.0205, -0.0053],\n",
       "         [-0.0218,  0.0134, -0.0098,  ..., -0.0262, -0.0077,  0.0063],\n",
       "         [-0.0286,  0.0100, -0.0031,  ..., -0.0338, -0.0205, -0.0053]]],\n",
       "       device='cuda:0', grad_fn=<CopySlices>)"
      ]
     },
     "execution_count": 9,
     "metadata": {},
     "output_type": "execute_result"
    }
   ],
   "source": [
    "model=CPCModel(args).cuda()\n",
    "inputs = torch.Tensor(10, 3, 3, 256, 306).cuda()\n",
    "model(inputs)"
   ]
  },
  {
   "cell_type": "code",
   "execution_count": null,
   "metadata": {},
   "outputs": [],
   "source": []
  },
  {
   "cell_type": "code",
   "execution_count": null,
   "metadata": {},
   "outputs": [],
   "source": []
  },
  {
   "cell_type": "code",
   "execution_count": null,
   "metadata": {},
   "outputs": [],
   "source": []
  },
  {
   "cell_type": "code",
   "execution_count": null,
   "metadata": {},
   "outputs": [],
   "source": []
  },
  {
   "cell_type": "code",
   "execution_count": null,
   "metadata": {},
   "outputs": [],
   "source": []
  },
  {
   "cell_type": "code",
   "execution_count": null,
   "metadata": {},
   "outputs": [],
   "source": []
  },
  {
   "cell_type": "code",
   "execution_count": null,
   "metadata": {},
   "outputs": [],
   "source": []
  },
  {
   "cell_type": "code",
   "execution_count": 72,
   "metadata": {
    "ExecuteTime": {
     "end_time": "2020-04-16T23:43:58.644919Z",
     "start_time": "2020-04-16T23:43:55.691765Z"
    }
   },
   "outputs": [
    {
     "name": "stdout",
     "output_type": "stream",
     "text": [
      "RNN model: GRU\n",
      "RNN model: GRU\n"
     ]
    }
   ],
   "source": [
    "from torchsummary import summary\n",
    "\n",
    "model = Seq2seq(2048, 2048, 2048).cuda()"
   ]
  },
  {
   "cell_type": "code",
   "execution_count": 73,
   "metadata": {
    "ExecuteTime": {
     "end_time": "2020-04-16T23:43:59.233737Z",
     "start_time": "2020-04-16T23:43:59.219563Z"
    }
   },
   "outputs": [
    {
     "name": "stdout",
     "output_type": "stream",
     "text": [
      "----------------------------------------------------------------\n",
      "        Layer (type)               Output Shape         Param #\n",
      "================================================================\n",
      "               GRU-1  [[-1, 3, 2048], [-1, 3, 2048]]               0\n",
      "               GRU-2  [[-1, 3, 2048], [-1, 3, 2048]]               0\n",
      "           Seq2seq-3  [[-1, 3, 2048], [-1, 3, 2048]]               0\n",
      "================================================================\n",
      "Total params: 0\n",
      "Trainable params: 0\n",
      "Non-trainable params: 0\n",
      "----------------------------------------------------------------\n",
      "Input size (MB): 144.00\n",
      "Forward/backward pass size (MB): 864.00\n",
      "Params size (MB): 0.00\n",
      "Estimated Total Size (MB): 1008.00\n",
      "----------------------------------------------------------------\n",
      "\n"
     ]
    },
    {
     "data": {
      "text/plain": [
       "(0, 0)"
      ]
     },
     "execution_count": 73,
     "metadata": {},
     "output_type": "execute_result"
    }
   ],
   "source": [
    "summary(model=model, input_size=[(3, 2048), (3, 2048)])"
   ]
  },
  {
   "cell_type": "code",
   "execution_count": 75,
   "metadata": {
    "ExecuteTime": {
     "end_time": "2020-04-16T23:45:28.803362Z",
     "start_time": "2020-04-16T23:45:28.796980Z"
    }
   },
   "outputs": [
    {
     "data": {
      "text/plain": [
       "torch.Size([5, 1, 2048])"
      ]
     },
     "execution_count": 75,
     "metadata": {},
     "output_type": "execute_result"
    }
   ],
   "source": [
    "a.shape"
   ]
  },
  {
   "cell_type": "code",
   "execution_count": 76,
   "metadata": {
    "ExecuteTime": {
     "end_time": "2020-04-16T23:45:29.579717Z",
     "start_time": "2020-04-16T23:45:29.572355Z"
    }
   },
   "outputs": [
    {
     "data": {
      "text/plain": [
       "torch.Size([2, 1, 2048])"
      ]
     },
     "execution_count": 76,
     "metadata": {},
     "output_type": "execute_result"
    }
   ],
   "source": [
    "b.shape"
   ]
  },
  {
   "cell_type": "code",
   "execution_count": null,
   "metadata": {},
   "outputs": [],
   "source": []
  }
 ],
 "metadata": {
  "kernelspec": {
   "display_name": "py36",
   "language": "python",
   "name": "py36"
  },
  "language_info": {
   "codemirror_mode": {
    "name": "ipython",
    "version": 3
   },
   "file_extension": ".py",
   "mimetype": "text/x-python",
   "name": "python",
   "nbconvert_exporter": "python",
   "pygments_lexer": "ipython3",
   "version": "3.6.8"
  },
  "toc": {
   "base_numbering": 1,
   "nav_menu": {},
   "number_sections": true,
   "sideBar": true,
   "skip_h1_title": false,
   "title_cell": "Table of Contents",
   "title_sidebar": "Contents",
   "toc_cell": false,
   "toc_position": {},
   "toc_section_display": true,
   "toc_window_display": false
  }
 },
 "nbformat": 4,
 "nbformat_minor": 2
}
